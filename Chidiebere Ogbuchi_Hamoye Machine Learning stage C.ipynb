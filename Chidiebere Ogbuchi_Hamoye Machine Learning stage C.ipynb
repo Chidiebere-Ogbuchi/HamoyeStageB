{
 "cells": [
  {
   "cell_type": "code",
   "execution_count": 1,
   "metadata": {},
   "outputs": [
    {
     "data": {
      "text/html": [
       "<div>\n",
       "<style scoped>\n",
       "    .dataframe tbody tr th:only-of-type {\n",
       "        vertical-align: middle;\n",
       "    }\n",
       "\n",
       "    .dataframe tbody tr th {\n",
       "        vertical-align: top;\n",
       "    }\n",
       "\n",
       "    .dataframe thead th {\n",
       "        text-align: right;\n",
       "    }\n",
       "</style>\n",
       "<table border=\"1\" class=\"dataframe\">\n",
       "  <thead>\n",
       "    <tr style=\"text-align: right;\">\n",
       "      <th></th>\n",
       "      <th>tau1</th>\n",
       "      <th>tau2</th>\n",
       "      <th>tau3</th>\n",
       "      <th>tau4</th>\n",
       "      <th>p1</th>\n",
       "      <th>p2</th>\n",
       "      <th>p3</th>\n",
       "      <th>p4</th>\n",
       "      <th>g1</th>\n",
       "      <th>g2</th>\n",
       "      <th>g3</th>\n",
       "      <th>g4</th>\n",
       "      <th>stab</th>\n",
       "      <th>stabf</th>\n",
       "    </tr>\n",
       "  </thead>\n",
       "  <tbody>\n",
       "    <tr>\n",
       "      <th>0</th>\n",
       "      <td>2.959060</td>\n",
       "      <td>3.079885</td>\n",
       "      <td>8.381025</td>\n",
       "      <td>9.780754</td>\n",
       "      <td>3.763085</td>\n",
       "      <td>-0.782604</td>\n",
       "      <td>-1.257395</td>\n",
       "      <td>-1.723086</td>\n",
       "      <td>0.650456</td>\n",
       "      <td>0.859578</td>\n",
       "      <td>0.887445</td>\n",
       "      <td>0.958034</td>\n",
       "      <td>0.055347</td>\n",
       "      <td>unstable</td>\n",
       "    </tr>\n",
       "    <tr>\n",
       "      <th>1</th>\n",
       "      <td>9.304097</td>\n",
       "      <td>4.902524</td>\n",
       "      <td>3.047541</td>\n",
       "      <td>1.369357</td>\n",
       "      <td>5.067812</td>\n",
       "      <td>-1.940058</td>\n",
       "      <td>-1.872742</td>\n",
       "      <td>-1.255012</td>\n",
       "      <td>0.413441</td>\n",
       "      <td>0.862414</td>\n",
       "      <td>0.562139</td>\n",
       "      <td>0.781760</td>\n",
       "      <td>-0.005957</td>\n",
       "      <td>stable</td>\n",
       "    </tr>\n",
       "    <tr>\n",
       "      <th>2</th>\n",
       "      <td>8.971707</td>\n",
       "      <td>8.848428</td>\n",
       "      <td>3.046479</td>\n",
       "      <td>1.214518</td>\n",
       "      <td>3.405158</td>\n",
       "      <td>-1.207456</td>\n",
       "      <td>-1.277210</td>\n",
       "      <td>-0.920492</td>\n",
       "      <td>0.163041</td>\n",
       "      <td>0.766689</td>\n",
       "      <td>0.839444</td>\n",
       "      <td>0.109853</td>\n",
       "      <td>0.003471</td>\n",
       "      <td>unstable</td>\n",
       "    </tr>\n",
       "    <tr>\n",
       "      <th>3</th>\n",
       "      <td>0.716415</td>\n",
       "      <td>7.669600</td>\n",
       "      <td>4.486641</td>\n",
       "      <td>2.340563</td>\n",
       "      <td>3.963791</td>\n",
       "      <td>-1.027473</td>\n",
       "      <td>-1.938944</td>\n",
       "      <td>-0.997374</td>\n",
       "      <td>0.446209</td>\n",
       "      <td>0.976744</td>\n",
       "      <td>0.929381</td>\n",
       "      <td>0.362718</td>\n",
       "      <td>0.028871</td>\n",
       "      <td>unstable</td>\n",
       "    </tr>\n",
       "    <tr>\n",
       "      <th>4</th>\n",
       "      <td>3.134112</td>\n",
       "      <td>7.608772</td>\n",
       "      <td>4.943759</td>\n",
       "      <td>9.857573</td>\n",
       "      <td>3.525811</td>\n",
       "      <td>-1.125531</td>\n",
       "      <td>-1.845975</td>\n",
       "      <td>-0.554305</td>\n",
       "      <td>0.797110</td>\n",
       "      <td>0.455450</td>\n",
       "      <td>0.656947</td>\n",
       "      <td>0.820923</td>\n",
       "      <td>0.049860</td>\n",
       "      <td>unstable</td>\n",
       "    </tr>\n",
       "  </tbody>\n",
       "</table>\n",
       "</div>"
      ],
      "text/plain": [
       "       tau1      tau2      tau3      tau4        p1        p2        p3  \\\n",
       "0  2.959060  3.079885  8.381025  9.780754  3.763085 -0.782604 -1.257395   \n",
       "1  9.304097  4.902524  3.047541  1.369357  5.067812 -1.940058 -1.872742   \n",
       "2  8.971707  8.848428  3.046479  1.214518  3.405158 -1.207456 -1.277210   \n",
       "3  0.716415  7.669600  4.486641  2.340563  3.963791 -1.027473 -1.938944   \n",
       "4  3.134112  7.608772  4.943759  9.857573  3.525811 -1.125531 -1.845975   \n",
       "\n",
       "         p4        g1        g2        g3        g4      stab     stabf  \n",
       "0 -1.723086  0.650456  0.859578  0.887445  0.958034  0.055347  unstable  \n",
       "1 -1.255012  0.413441  0.862414  0.562139  0.781760 -0.005957    stable  \n",
       "2 -0.920492  0.163041  0.766689  0.839444  0.109853  0.003471  unstable  \n",
       "3 -0.997374  0.446209  0.976744  0.929381  0.362718  0.028871  unstable  \n",
       "4 -0.554305  0.797110  0.455450  0.656947  0.820923  0.049860  unstable  "
      ]
     },
     "execution_count": 1,
     "metadata": {},
     "output_type": "execute_result"
    }
   ],
   "source": [
    "#importing libraries and data\n",
    "import pandas as pd\n",
    "import numpy as np\n",
    "df = pd.read_csv('Data_for_UCI_named.csv')\n",
    "df.head()"
   ]
  },
  {
   "cell_type": "code",
   "execution_count": 2,
   "metadata": {},
   "outputs": [
    {
     "data": {
      "text/plain": [
       "unstable    6380\n",
       "stable      3620\n",
       "Name: stabf, dtype: int64"
      ]
     },
     "execution_count": 2,
     "metadata": {},
     "output_type": "execute_result"
    }
   ],
   "source": [
    "df[ 'stabf' ].value_counts()"
   ]
  },
  {
   "cell_type": "code",
   "execution_count": 3,
   "metadata": {},
   "outputs": [
    {
     "data": {
      "text/plain": [
       "unstable    6380\n",
       "stable      3620\n",
       "Name: stabf, dtype: int64"
      ]
     },
     "execution_count": 3,
     "metadata": {},
     "output_type": "execute_result"
    }
   ],
   "source": [
    "df.isna().sum()\n",
    "#for simplicity, we will drop the rows with missing values.\n",
    "df = df.dropna()\n",
    "df.head()\n",
    "df[ 'stabf' ].value_counts()"
   ]
  },
  {
   "cell_type": "code",
   "execution_count": 4,
   "metadata": {},
   "outputs": [],
   "source": [
    "data_df = df.drop(columns=['stab'])\n",
    "X = data_df.drop(columns= 'stabf' )\n",
    "y = data_df[ 'stabf' ]"
   ]
  },
  {
   "cell_type": "code",
   "execution_count": 5,
   "metadata": {},
   "outputs": [],
   "source": [
    "from sklearn.model_selection import train_test_split\n",
    "x_train, x_test, y_train, y_test = train_test_split(X, y, test_size= 0.2 , random_state= 1 )\n",
    "#y_train.value_counts()\n",
    "#print(y_train)"
   ]
  },
  {
   "cell_type": "code",
   "execution_count": 6,
   "metadata": {},
   "outputs": [],
   "source": [
    "#import imblearn\n",
    "#from imblearn.over_sampling import SMOTE\n",
    "#smote = SMOTE(random_state= 1 )\n",
    "#x_balanced, y_balanced = smote.fit_sample(x_train, y_train)\n",
    "#print(x_balanced)\n",
    "\n",
    "x_balanced = x_train\n",
    "y_balanced = y_train "
   ]
  },
  {
   "cell_type": "code",
   "execution_count": 7,
   "metadata": {},
   "outputs": [
    {
     "name": "stdout",
     "output_type": "stream",
     "text": [
      "          tau1      tau2      tau3      tau4        p1        p2        p3  \\\n",
      "0     0.367327 -0.986042  0.650447  1.547527 -0.291490  0.061535  1.293862   \n",
      "1    -0.064659  0.089437  1.035079 -1.641494  0.619865 -0.067235 -1.502925   \n",
      "2    -1.467850  1.298418 -0.502536  1.166046 -0.180521  0.490603  0.682560   \n",
      "3     0.820081  0.529920  1.299657 -1.141975 -0.812854 -0.763632  1.521579   \n",
      "4     0.665424 -1.425627  0.312300  0.919137 -1.614296  0.760315  1.422019   \n",
      "...        ...       ...       ...       ...       ...       ...       ...   \n",
      "7995  1.551314  0.007408 -1.177640  1.016898 -0.397177  0.759820 -0.636951   \n",
      "7996  1.015925 -0.223483 -1.489381 -1.479078  0.451468 -0.731994  0.990355   \n",
      "7997  0.657609 -0.722756 -1.405888 -0.274301 -0.012584  1.438694 -0.364266   \n",
      "7998 -0.059316 -1.260532 -1.010471 -0.877808 -0.779769  0.828824  0.516923   \n",
      "7999 -1.473214  0.638438  0.250122 -0.996484  1.950944 -1.163800 -0.732842   \n",
      "\n",
      "            p4        g1        g2        g3        g4  \n",
      "0    -0.845074  0.160918  0.339859  0.585568  0.492239  \n",
      "1     0.486613 -0.293143 -1.558488  1.429649 -1.443521  \n",
      "2    -0.855302  1.399350  1.451534 -1.045743  0.492489  \n",
      "3     0.658780 -0.958319  1.361958  1.604140  0.275303  \n",
      "4     0.639243  1.676895  0.695660  1.137504 -1.312575  \n",
      "...        ...       ...       ...       ...       ...  \n",
      "7995  0.572703 -1.209413  0.313976 -1.625728 -0.637401  \n",
      "7996 -1.048148 -1.094647 -0.755209  0.734821 -0.304433  \n",
      "7997 -1.046683  1.253539  0.293100 -1.550587  0.810344  \n",
      "7998  0.018984 -0.182448 -0.388255 -0.726781  1.667916  \n",
      "7999 -1.513302  1.230438 -1.174110  1.179282  0.783627  \n",
      "\n",
      "[8000 rows x 12 columns]\n"
     ]
    }
   ],
   "source": [
    "#Normalising train df\n",
    "from sklearn.preprocessing import StandardScaler\n",
    "\n",
    "scaler = StandardScaler() \n",
    "\n",
    "normalised_train_df = scaler.fit_transform(x_balanced)\n",
    "\n",
    "normalised_train_df = pd.DataFrame(normalised_train_df, columns=(x_balanced).columns)\n",
    "\n",
    "print(normalised_train_df)"
   ]
  },
  {
   "cell_type": "code",
   "execution_count": 8,
   "metadata": {},
   "outputs": [],
   "source": [
    "#Normalising test df\n",
    "normalised_test_df = scaler.transform (x_test)\n",
    "normalised_test_df = pd.DataFrame(normalised_test_df, columns=(x_balanced).columns)"
   ]
  },
  {
   "cell_type": "code",
   "execution_count": 9,
   "metadata": {},
   "outputs": [],
   "source": [
    "#Import scikit-learn metrics module for accuracy calculation\n",
    "from sklearn import metrics\n",
    "import xgboost as xgb\n",
    "from sklearn.metrics import mean_squared_error\n",
    "from numpy import loadtxt\n",
    "from xgboost import XGBClassifier\n",
    "from sklearn.model_selection import train_test_split\n",
    "from sklearn.metrics import accuracy_score\n",
    "from sklearn.metrics import recall_score, accuracy_score, precision_score, f1_score, confusion_matrix\n",
    "from sklearn.ensemble import RandomForestClassifier\n",
    "from sklearn.datasets import make_classification\n",
    "from sklearn.ensemble import ExtraTreesClassifier\n",
    "from pprint import pprint\n",
    "from sklearn.ensemble import RandomForestRegressor\n"
   ]
  },
  {
   "cell_type": "code",
   "execution_count": 10,
   "metadata": {},
   "outputs": [
    {
     "name": "stdout",
     "output_type": "stream",
     "text": [
      "Accuracy: 0.9455\n",
      "Accuracy: 95.0\n",
      "Precision: 95.0\n",
      "Recall: 97.0\n",
      "F1: 96.0\n"
     ]
    }
   ],
   "source": [
    "#xgboost\n",
    "# fit model no training data using Xgb\n",
    "modelxgb = XGBClassifier(random_state=1)\n",
    "modelxgb.fit(normalised_train_df,y_balanced)\n",
    "\n",
    "xgb_pred=modelxgb.predict(normalised_test_df)\n",
    "\n",
    "# Model Accuracy, how often is the classifier correct?\n",
    "print(\"Accuracy:\",metrics.accuracy_score(y_test,xgb_pred))\n",
    "\n",
    "#Accuracy \n",
    "accuracy = accuracy_score(y_true=y_test, y_pred=xgb_pred) \n",
    "print( 'Accuracy: {}' .format(round(accuracy* 100 ), 2 )) \n",
    "\n",
    "#Precision \n",
    "precision = precision_score(y_true=y_test, y_pred=xgb_pred, pos_label= 'unstable' )\n",
    "print( 'Precision: {}' .format(round(precision* 100 ), 2 ))\n",
    "\n",
    "#Recall\n",
    "recall = recall_score(y_true=y_test, y_pred=xgb_pred, pos_label= 'unstable')\n",
    "print( 'Recall: {}' .format(round(recall* 100 ), 2 )) \n",
    "\n",
    "#F1-Score\n",
    "f1 = f1_score(y_true=y_test, y_pred=xgb_pred, pos_label= 'unstable' )\n",
    "print( 'F1: {}' .format(round(f1* 100 ), 2 ))\n",
    "\n",
    "\n"
   ]
  },
  {
   "cell_type": "code",
   "execution_count": 11,
   "metadata": {},
   "outputs": [
    {
     "name": "stdout",
     "output_type": "stream",
     "text": [
      "Accuracy: 0.9375\n",
      "Accuracy: 94.0\n",
      "Precision: 94.0\n",
      "Recall: 96.0\n",
      "F1: 95.0\n"
     ]
    }
   ],
   "source": [
    "# build the lightgbm model\n",
    "import lightgbm as lgb\n",
    "\n",
    "# fit model no training data using lgb\n",
    "model_lgb = lgb.LGBMClassifier(random_state=1)\n",
    "model_lgb.fit(normalised_train_df,y_balanced)\n",
    "\n",
    "lgb_pred=model_lgb.predict(normalised_test_df)\n",
    "\n",
    "# Model Accuracy, how often is the classifier correct?\n",
    "print(\"Accuracy:\",metrics.accuracy_score(y_test,lgb_pred))\n",
    "\n",
    "#Accuracy \n",
    "accuracy = accuracy_score(y_true=y_test, y_pred=lgb_pred) \n",
    "print( 'Accuracy: {}' .format(round(accuracy* 100 ), 2 )) \n",
    "\n",
    "#Precision \n",
    "precision = precision_score(y_true=y_test, y_pred=lgb_pred, pos_label= 'unstable' )\n",
    "print( 'Precision: {}' .format(round(precision* 100 ), 2 )) \n",
    "\n",
    "#Recall\n",
    "recall = recall_score(y_true=y_test, y_pred=lgb_pred, pos_label= 'unstable')\n",
    "print( 'Recall: {}' .format(round(recall* 100 ), 2 )) \n",
    "\n",
    "#F1-Score\n",
    "f1 = f1_score(y_true=y_test, y_pred=lgb_pred, pos_label= 'unstable' )\n",
    "print( 'F1: {}' .format(round(f1* 100 ), 2 )) \n",
    "\n"
   ]
  },
  {
   "cell_type": "code",
   "execution_count": 12,
   "metadata": {},
   "outputs": [
    {
     "name": "stdout",
     "output_type": "stream",
     "text": [
      "Accuracy: 0.929\n",
      "Accuracy: 93.0\n",
      "Precision: 93.0\n",
      "Recall: 96.0\n",
      "F1: 95.0\n"
     ]
    },
    {
     "data": {
      "text/plain": [
       "array(['unstable'], dtype=object)"
      ]
     },
     "execution_count": 12,
     "metadata": {},
     "output_type": "execute_result"
    }
   ],
   "source": [
    "#Import Random Forest Model\n",
    "from sklearn.ensemble import RandomForestClassifier\n",
    "\n",
    "#Create a Gaussian Classifier\n",
    "model_RF=RandomForestClassifier( random_state=1)\n",
    "\n",
    "#Train the model using the training sets y_pred=clf.predict(X_test)\n",
    "model_RF.fit(normalised_train_df, y_balanced)\n",
    "\n",
    "RF_pred=model_RF.predict(normalised_test_df)\n",
    "\n",
    "#Import scikit-learn metrics module for accuracy calculation\n",
    "from sklearn import metrics\n",
    "\n",
    "# Model Accuracy, how often is the classifier correct?\n",
    "print(\"Accuracy:\",metrics.accuracy_score(y_test, RF_pred))\n",
    "\n",
    "#Accuracy \n",
    "accuracy = accuracy_score(y_true=y_test, y_pred=RF_pred) \n",
    "print( 'Accuracy: {}' .format(round(accuracy* 100 ), 2 )) \n",
    "\n",
    "#Precision \n",
    "precision = precision_score(y_true=y_test, y_pred=RF_pred, pos_label= 'unstable' )\n",
    "print( 'Precision: {}' .format(round(precision* 100), 2 ))\n",
    "\n",
    "#Recall\n",
    "recall = recall_score(y_true=y_test, y_pred=RF_pred, pos_label= 'unstable')\n",
    "print( 'Recall: {}' .format(round(recall* 100 ), 2 )) \n",
    "\n",
    "#F1-Score\n",
    "f1 = f1_score(y_true=y_test, y_pred=RF_pred, pos_label= 'unstable' )\n",
    "print( 'F1: {}' .format(round(f1* 100 ), 2 ))\n",
    "\n",
    "model_RF.predict([[0, 0, 0, 0, 0, 0, 0, 0, 0, 0, 0, 0]])"
   ]
  },
  {
   "cell_type": "code",
   "execution_count": 13,
   "metadata": {},
   "outputs": [
    {
     "name": "stdout",
     "output_type": "stream",
     "text": [
      "{'max_features': ['auto', 'sqrt', 'log2', None],\n",
      " 'min_samples_leaf': [1, 2, 4, 6, 8],\n",
      " 'min_samples_split': [2, 3, 5, 7, 9],\n",
      " 'n_estimators': [50, 100, 300, 500, 1000]}\n"
     ]
    }
   ],
   "source": [
    "#Random Hyperparameter Grid\n",
    "#To use RandomizedSearchCV, we first need to create a parameter grid to sample from during fitting:\n",
    "\n",
    "from sklearn.model_selection import RandomizedSearchCV\n",
    "# Number of trees in random forest\n",
    "n_estimators = [50, 100, 300, 500, 1000]\n",
    "\n",
    "# Number of features to consider at every split\n",
    "max_features = ['auto', 'sqrt', 'log2', None] \n",
    "\n",
    "# Maximum number of levels in tree\n",
    "#max_depth = [int(x) for x in np.linspace(10, 110, num = 11)]\n",
    "#max_depth.append(None)\n",
    "\n",
    "# Minimum number of samples required to split a node\n",
    "min_samples_split = [2, 3, 5, 7, 9]\n",
    "\n",
    "# Minimum number of samples required at each leaf node\n",
    "min_samples_leaf = [1, 2, 4, 6, 8]\n",
    "\n",
    "# Method of selecting samples for training each tree\n",
    "#bootstrap = [True, False]\n",
    "\n",
    "# Create the random grid\n",
    "hyperparameter_grid = {'n_estimators': n_estimators,\n",
    "                       'min_samples_leaf': min_samples_leaf,\n",
    "                       'min_samples_split': min_samples_split,\n",
    "                       'max_features': max_features}\n",
    "pprint(hyperparameter_grid)"
   ]
  },
  {
   "cell_type": "code",
   "execution_count": 14,
   "metadata": {},
   "outputs": [],
   "source": [
    "#Random Search Training\n",
    "#Now, we instantiate the random search and fit it like any Scikit-Learn model:\n",
    "\n",
    "# Use the random grid to search for best hyperparameters\n",
    "# First create the base model to tune\n",
    "#ranf = RandomForestRegressor()\n",
    "ranf = ExtraTreesClassifier()\n",
    "\n",
    "# Random search of parameters, using 3 fold cross validation, \n",
    "# search across 100 different combinations, and use all available cores\n",
    "rf_random = RandomizedSearchCV(estimator=ranf, param_distributions=hyperparameter_grid,\n",
    "                              n_iter = 10, scoring='neg_mean_absolute_error', \n",
    "                              cv = 5, verbose=1, random_state=1, n_jobs=-1,\n",
    "                              return_train_score=True)"
   ]
  },
  {
   "cell_type": "code",
   "execution_count": 15,
   "metadata": {},
   "outputs": [],
   "source": [
    "#encode categorical variable\n",
    "from sklearn.preprocessing import LabelEncoder\n",
    "encoder = LabelEncoder()\n",
    "y_balancednew = encoder.fit_transform(y_balanced)\n",
    "#y_test = encoder.transform(y_test)"
   ]
  },
  {
   "cell_type": "code",
   "execution_count": 16,
   "metadata": {},
   "outputs": [
    {
     "name": "stdout",
     "output_type": "stream",
     "text": [
      "Fitting 5 folds for each of 10 candidates, totalling 50 fits\n"
     ]
    },
    {
     "name": "stderr",
     "output_type": "stream",
     "text": [
      "[Parallel(n_jobs=-1)]: Using backend LokyBackend with 4 concurrent workers.\n",
      "[Parallel(n_jobs=-1)]: Done  42 tasks      | elapsed:   58.6s\n",
      "[Parallel(n_jobs=-1)]: Done  50 out of  50 | elapsed:  1.1min finished\n"
     ]
    },
    {
     "data": {
      "text/plain": [
       "RandomizedSearchCV(cv=5, estimator=ExtraTreesClassifier(), n_jobs=-1,\n",
       "                   param_distributions={'max_features': ['auto', 'sqrt', 'log2',\n",
       "                                                         None],\n",
       "                                        'min_samples_leaf': [1, 2, 4, 6, 8],\n",
       "                                        'min_samples_split': [2, 3, 5, 7, 9],\n",
       "                                        'n_estimators': [50, 100, 300, 500,\n",
       "                                                         1000]},\n",
       "                   random_state=1, return_train_score=True,\n",
       "                   scoring='neg_mean_absolute_error', verbose=1)"
      ]
     },
     "execution_count": 16,
     "metadata": {},
     "output_type": "execute_result"
    }
   ],
   "source": [
    "# Fit the random search model\n",
    "rf_random.fit(normalised_train_df, y_balancednew)"
   ]
  },
  {
   "cell_type": "code",
   "execution_count": 17,
   "metadata": {},
   "outputs": [
    {
     "data": {
      "text/plain": [
       "{'n_estimators': 1000,\n",
       " 'min_samples_split': 2,\n",
       " 'min_samples_leaf': 8,\n",
       " 'max_features': None}"
      ]
     },
     "execution_count": 17,
     "metadata": {},
     "output_type": "execute_result"
    }
   ],
   "source": [
    "#Best rf classifier to use\n",
    "rf_random.best_params_"
   ]
  },
  {
   "cell_type": "code",
   "execution_count": 18,
   "metadata": {},
   "outputs": [
    {
     "name": "stdout",
     "output_type": "stream",
     "text": [
      "Accuracy: 0.9225\n",
      "Accuracy: 92.0\n",
      "Precision: 91.0\n",
      "Recall: 87.0\n",
      "F1: 89.0\n"
     ]
    }
   ],
   "source": [
    "#Import Random Forest Model HyperParameter\n",
    "from sklearn.ensemble import RandomForestClassifier\n",
    "\n",
    "#Create a Gaussian Classifier\n",
    "new_model_RF=RandomForestClassifier(n_estimators=100, min_samples_split=3, min_samples_leaf = 2, max_features = 'auto', random_state=1)\n",
    "\n",
    "#Train the model using the training sets y_pred=clf.predict(X_test)\n",
    "new_model_RF.fit(normalised_train_df, y_balanced)\n",
    "\n",
    "RF_pred_new = new_model_RF.predict(normalised_test_df)\n",
    "\n",
    "#Import scikit-learn metrics module for accuracy calculation\n",
    "from sklearn import metrics\n",
    "\n",
    "# Model Accuracy, how often is the classifier correct?\n",
    "print(\"Accuracy:\",metrics.accuracy_score(y_test,RF_pred_new))\n",
    "\n",
    "#Accuracy \n",
    "accuracy = accuracy_score(y_true=y_test, y_pred=RF_pred_new) \n",
    "print( 'Accuracy: {}' .format(round(accuracy* 100 ), 2 )) \n",
    "\n",
    "#Precision \n",
    "precision = precision_score(y_true=y_test, y_pred=RF_pred_new, pos_label= 'stable' )\n",
    "print( 'Precision: {}' .format(round(precision* 100 ), 2 ))\n",
    "\n",
    "#Recall\n",
    "recall = recall_score(y_true=y_test, y_pred=RF_pred_new, pos_label= 'stable')\n",
    "print( 'Recall: {}' .format(round(recall* 100 ), 2 )) \n",
    "\n",
    "#F1-Score\n",
    "f1 = f1_score(y_true=y_test, y_pred=RF_pred_new, pos_label= 'stable' )\n",
    "print( 'F1: {}' .format(round(f1* 100 ), 2 ))"
   ]
  },
  {
   "cell_type": "code",
   "execution_count": 19,
   "metadata": {},
   "outputs": [
    {
     "name": "stdout",
     "output_type": "stream",
     "text": [
      "Accuracy: 0.9225\n",
      "Accuracy: 92.0\n",
      "Precision: 93.0\n",
      "Recall: 95.0\n",
      "F1: 94.0\n"
     ]
    }
   ],
   "source": [
    "#Import ExtraTreesClassifier\n",
    "from sklearn.ensemble import ExtraTreesClassifier\n",
    "\n",
    "#Create a Gaussian Classifier\n",
    "model_ETC = ExtraTreesClassifier(random_state=1)\n",
    "\n",
    "#Train the model using the training sets y_pred=clf.predict(X_test)\n",
    "model_ETC.fit(normalised_train_df, y_balanced)\n",
    "\n",
    "ETC_pred = new_model_RF.predict(normalised_test_df)\n",
    "\n",
    "#Import scikit-learn metrics module for accuracy calculation\n",
    "from sklearn import metrics\n",
    "\n",
    "# Model Accuracy, how often is the classifier correct?\n",
    "print(\"Accuracy:\",metrics.accuracy_score(y_test,ETC_pred))\n",
    "\n",
    "#Accuracy \n",
    "accuracy = accuracy_score(y_true=y_test, y_pred=ETC_pred) \n",
    "print( 'Accuracy: {}' .format(round(accuracy* 100 ), 2 )) \n",
    "\n",
    "#Precision \n",
    "precision = precision_score(y_true=y_test, y_pred=ETC_pred, pos_label= 'unstable' )\n",
    "print( 'Precision: {}' .format(round(precision* 100 ), 2 ))\n",
    "\n",
    "#Recall\n",
    "recall = recall_score(y_true=y_test, y_pred=ETC_pred, pos_label= 'unstable')\n",
    "print( 'Recall: {}' .format(round(recall* 100 ), 2 )) \n",
    "\n",
    "#F1-Score\n",
    "f1 = f1_score(y_true=y_test, y_pred=ETC_pred, pos_label= 'unstable' )\n",
    "print( 'F1: {}' .format(round(f1* 100 ), 2 ))"
   ]
  }
 ],
 "metadata": {
  "kernelspec": {
   "display_name": "Python 3",
   "language": "python",
   "name": "python3"
  },
  "language_info": {
   "codemirror_mode": {
    "name": "ipython",
    "version": 3
   },
   "file_extension": ".py",
   "mimetype": "text/x-python",
   "name": "python",
   "nbconvert_exporter": "python",
   "pygments_lexer": "ipython3",
   "version": "3.8.3"
  }
 },
 "nbformat": 4,
 "nbformat_minor": 4
}
